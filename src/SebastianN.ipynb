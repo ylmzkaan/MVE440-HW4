{
 "cells": [
  {
   "cell_type": "code",
   "execution_count": 11,
   "metadata": {},
   "outputs": [],
   "source": [
    "from matplotlib import rcParams\n",
    "from matplotlib import pyplot as plt\n",
    "from sklearn.manifold import MDS\n",
    "from sklearn.manifold import TSNE\n",
    "import numpy as np\n",
    "import warnings\n",
    "warnings.filterwarnings('ignore')\n",
    "from DataGenerator import generateOneClusterData\n",
    "from Settings import (DEFAULT_NUMBER_OF_FEATURES,\n",
    "                        DEFAULT_NUMBER_OF_RECORDS_PER_CLASS,\n",
    "                        DEFAULT_FEATURE_MEAN_RANGE,\n",
    "                        DEFAULT_RANDOM_NUMBER_SEED)\n",
    "\n",
    "data = generateOneClusterData(DEFAULT_NUMBER_OF_FEATURES,\n",
    "                            DEFAULT_NUMBER_OF_RECORDS_PER_CLASS,\n",
    "                            DEFAULT_FEATURE_MEAN_RANGE, \n",
    "                            DEFAULT_RANDOM_NUMBER_SEED)\n",
    "\n",
    "rcParams['figure.figsize'] = (6.0, 6.0)\n",
    "from gap_statistic import OptimalK\n",
    "optimalK = OptimalK(parallel_backend='joblib')"
   ]
  },
  {
   "cell_type": "code",
   "execution_count": 12,
   "metadata": {},
   "outputs": [
    {
     "data": {
      "image/png": "[encoded data removed]",
      "text/plain": [
       "<matplotlib.figure.Figure at 0x112e9e4e0>"
      ]
     },
     "metadata": {},
     "output_type": "display_data"
    },
    {
     "data": {
      "text/plain": [
       "3"
      ]
     },
     "execution_count": 12,
     "metadata": {},
     "output_type": "execute_result"
    }
   ],
   "source": [
    "X_embedded = TSNE(n_components=2, perplexity=30).fit_transform(data)\n",
    "X_embedded.shape\n",
    "data.shape\n",
    "plt.scatter(X_embedded[:,0], X_embedded[:,1])\n",
    "plt.show()\n",
    "optimalK(X_embedded, cluster_array=[1,2,3,4,5,6,7,8], n_refs=10)"
   ]
  },
  {
   "cell_type": "code",
   "execution_count": null,
   "metadata": {
    "collapsed": true
   },
   "outputs": [],
   "source": []
  }
 ],
 "metadata": {
  "kernelspec": {
   "display_name": "Python 3",
   "language": "python",
   "name": "python3"
  },
  "language_info": {
   "codemirror_mode": {
    "name": "ipython",
    "version": 3
   },
   "file_extension": ".py",
   "mimetype": "text/x-python",
   "name": "python",
   "nbconvert_exporter": "python",
   "pygments_lexer": "ipython3",
   "version": "3.6.4"
  }
 },
 "nbformat": 4,
 "nbformat_minor": 2
}
